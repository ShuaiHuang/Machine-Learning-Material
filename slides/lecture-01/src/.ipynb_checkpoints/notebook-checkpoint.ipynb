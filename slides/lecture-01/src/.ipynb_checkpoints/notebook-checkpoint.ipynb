{
 "cells": [
  {
   "cell_type": "markdown",
   "metadata": {
    "_cell_guid": "abf4711d-a8e8-4803-a71d-8ec1985c8324",
    "_uuid": "a05d3780befcb151b8837215b8015a4e642aae9c"
   },
   "source": [
    "# Competition description\n",
    "> The sinking of the RMS Titanic is one of the most infamous shipwrecks in history.  On April 15, 1912, during her maiden voyage, the Titanic sank after colliding with an iceberg, killing 1502 out of 2224 passengers and crew. This sensational tragedy shocked the international community and led to better safety regulations for ships.\n",
    "> \n",
    "> One of the reasons that the shipwreck led to such loss of life was that there were not enough lifeboats for the passengers and crew. Although there was some element of luck involved in surviving the sinking, some groups of people were more likely to survive than others, such as women, children, and the upper-class.\n",
    "> \n",
    "> In this challenge, we ask you to complete the analysis of what sorts of people were likely to survive. In particular, we ask you to apply the tools of machine learning to predict which passengers survived the tragedy."
   ]
  },
  {
   "cell_type": "markdown",
   "metadata": {
    "_cell_guid": "ae7afd38-0cec-4c20-b60b-b3e4f3c47495",
    "_uuid": "1aedf5a4f7523bebf5ffc81c12ba7ca03c8b383a"
   },
   "source": [
    "# Objectives\n",
    "This is my first Kaggle competition and the first project that I will do by myself. I've completed the Andrew Ng course on ML and watched a bunch of videos about numpy, pandas and sci-kit learn. My objectives with this notebook is to keep learning putting into practice what I already \"know\" as well as what I will learn during participating in this competition. This notebook is highly inspired in other kernels that I saw as well. I hope I can learn writing this kernel."
   ]
  },
  {
   "cell_type": "markdown",
   "metadata": {
    "_cell_guid": "41630f79-041b-41f3-9b6b-dee3d0107947",
    "_uuid": "865b69cd0dd60583d3a60853ebd9bd126750595d"
   },
   "source": [
    "# Index\n",
    "1. Data Cleaning  \n",
    "    1.1 Missing Values  \n",
    "    1.2 Dummy Variables  \n",
    "    1.3 Cabin Letters  \n",
    "2. Feature Engineering  \n",
    "    2.1 Family Names   \n",
    "    2.2 Title  \n",
    "    2.3 Family Size  \n",
    "    2.4 Fare and Age Bins  \n",
    "3. Visualization  \n",
    "    3.1 Correlation Matrix  \n",
    "    3.2 Age, Fare, Sex Analysis  \n",
    "    3.3 Who survived per groups  \n",
    "4. Choosing a Model (Logistic Regression)  \n",
    "5. Predicting  \n",
    "6. What else can be done?  \n",
    "    6.1 Better Feature Selection (RFE)  \n",
    "    6.2 Age Linear Regression    \n",
    "    \n",
    "   "
   ]
  },
  {
   "cell_type": "markdown",
   "metadata": {
    "_cell_guid": "9655f29d-6bdb-44f5-8e92-488d350b0860",
    "_uuid": "c8e7c2feb5d602a3a9a643aa7b24407e1a1450ad"
   },
   "source": [
    "# Setting Environment"
   ]
  },
  {
   "cell_type": "code",
   "execution_count": 1,
   "metadata": {
    "_cell_guid": "46ac5d0c-2105-42d1-8b07-007c9bf24b31",
    "_uuid": "879dc3fd82a1e8a2787c95c2612014c0d45d2913"
   },
   "outputs": [],
   "source": [
    "import numpy as np\n",
    "import pandas as pd\n",
    "\n",
    "# Preprocessing\n",
    "from sklearn.preprocessing import LabelEncoder\n",
    "\n",
    "# Model Selection and Learning\n",
    "from sklearn.model_selection import train_test_split, GridSearchCV\n",
    "from sklearn.preprocessing import PolynomialFeatures, StandardScaler\n",
    "from sklearn.feature_selection import RFECV\n",
    "from sklearn.pipeline import Pipeline\n",
    "from sklearn.linear_model import LogisticRegression\n",
    "\n",
    "#Visualization\n",
    "import seaborn as sns\n",
    "import matplotlib as mpl\n",
    "import matplotlib.pyplot as plt\n",
    "import matplotlib.pylab as pylab\n",
    "pylab.rcParams['figure.figsize'] = 14,10\n",
    "sns.set()\n",
    "sns.set_color_codes()"
   ]
  },
  {
   "cell_type": "code",
   "execution_count": 2,
   "metadata": {
    "_cell_guid": "4ae8584a-61ee-48f0-8c60-055f5c7a724f",
    "_uuid": "a55078bfc2adad6141cbb76217a90430a6567435",
    "scrolled": false
   },
   "outputs": [
    {
     "ename": "IOError",
     "evalue": "File ../train.csv does not exist",
     "output_type": "error",
     "traceback": [
      "\u001b[0;31m---------------------------------------------------------------------------\u001b[0m",
      "\u001b[0;31mIOError\u001b[0m                                   Traceback (most recent call last)",
      "\u001b[0;32m<ipython-input-2-3d8ea214ed59>\u001b[0m in \u001b[0;36m<module>\u001b[0;34m()\u001b[0m\n\u001b[0;32m----> 1\u001b[0;31m \u001b[0mdf_train\u001b[0m \u001b[0;34m=\u001b[0m \u001b[0mpd\u001b[0m\u001b[0;34m.\u001b[0m\u001b[0mread_csv\u001b[0m\u001b[0;34m(\u001b[0m\u001b[0;34m\"../train.csv\"\u001b[0m\u001b[0;34m)\u001b[0m\u001b[0;34m\u001b[0m\u001b[0m\n\u001b[0m\u001b[1;32m      2\u001b[0m \u001b[0mdf_test\u001b[0m \u001b[0;34m=\u001b[0m \u001b[0mpd\u001b[0m\u001b[0;34m.\u001b[0m\u001b[0mread_csv\u001b[0m\u001b[0;34m(\u001b[0m\u001b[0;34m\"../test.csv\"\u001b[0m\u001b[0;34m)\u001b[0m\u001b[0;34m\u001b[0m\u001b[0m\n\u001b[1;32m      3\u001b[0m \u001b[0;34m\u001b[0m\u001b[0m\n\u001b[1;32m      4\u001b[0m \u001b[0;31m# Copy for the preprocessing\u001b[0m\u001b[0;34m\u001b[0m\u001b[0;34m\u001b[0m\u001b[0m\n\u001b[1;32m      5\u001b[0m \u001b[0mdf1_train\u001b[0m \u001b[0;34m=\u001b[0m \u001b[0mdf_train\u001b[0m\u001b[0;34m.\u001b[0m\u001b[0mcopy\u001b[0m\u001b[0;34m(\u001b[0m\u001b[0;34m)\u001b[0m\u001b[0;34m\u001b[0m\u001b[0m\n",
      "\u001b[0;32m/home/solomon/anaconda2/envs/tensorflow/lib/python2.7/site-packages/pandas/io/parsers.pyc\u001b[0m in \u001b[0;36mparser_f\u001b[0;34m(filepath_or_buffer, sep, delimiter, header, names, index_col, usecols, squeeze, prefix, mangle_dupe_cols, dtype, engine, converters, true_values, false_values, skipinitialspace, skiprows, nrows, na_values, keep_default_na, na_filter, verbose, skip_blank_lines, parse_dates, infer_datetime_format, keep_date_col, date_parser, dayfirst, iterator, chunksize, compression, thousands, decimal, lineterminator, quotechar, quoting, escapechar, comment, encoding, dialect, tupleize_cols, error_bad_lines, warn_bad_lines, skipfooter, skip_footer, doublequote, delim_whitespace, as_recarray, compact_ints, use_unsigned, low_memory, buffer_lines, memory_map, float_precision)\u001b[0m\n\u001b[1;32m    653\u001b[0m                     skip_blank_lines=skip_blank_lines)\n\u001b[1;32m    654\u001b[0m \u001b[0;34m\u001b[0m\u001b[0m\n\u001b[0;32m--> 655\u001b[0;31m         \u001b[0;32mreturn\u001b[0m \u001b[0m_read\u001b[0m\u001b[0;34m(\u001b[0m\u001b[0mfilepath_or_buffer\u001b[0m\u001b[0;34m,\u001b[0m \u001b[0mkwds\u001b[0m\u001b[0;34m)\u001b[0m\u001b[0;34m\u001b[0m\u001b[0m\n\u001b[0m\u001b[1;32m    656\u001b[0m \u001b[0;34m\u001b[0m\u001b[0m\n\u001b[1;32m    657\u001b[0m     \u001b[0mparser_f\u001b[0m\u001b[0;34m.\u001b[0m\u001b[0m__name__\u001b[0m \u001b[0;34m=\u001b[0m \u001b[0mname\u001b[0m\u001b[0;34m\u001b[0m\u001b[0m\n",
      "\u001b[0;32m/home/solomon/anaconda2/envs/tensorflow/lib/python2.7/site-packages/pandas/io/parsers.pyc\u001b[0m in \u001b[0;36m_read\u001b[0;34m(filepath_or_buffer, kwds)\u001b[0m\n\u001b[1;32m    403\u001b[0m \u001b[0;34m\u001b[0m\u001b[0m\n\u001b[1;32m    404\u001b[0m     \u001b[0;31m# Create the parser.\u001b[0m\u001b[0;34m\u001b[0m\u001b[0;34m\u001b[0m\u001b[0m\n\u001b[0;32m--> 405\u001b[0;31m     \u001b[0mparser\u001b[0m \u001b[0;34m=\u001b[0m \u001b[0mTextFileReader\u001b[0m\u001b[0;34m(\u001b[0m\u001b[0mfilepath_or_buffer\u001b[0m\u001b[0;34m,\u001b[0m \u001b[0;34m**\u001b[0m\u001b[0mkwds\u001b[0m\u001b[0;34m)\u001b[0m\u001b[0;34m\u001b[0m\u001b[0m\n\u001b[0m\u001b[1;32m    406\u001b[0m \u001b[0;34m\u001b[0m\u001b[0m\n\u001b[1;32m    407\u001b[0m     \u001b[0;32mif\u001b[0m \u001b[0mchunksize\u001b[0m \u001b[0;32mor\u001b[0m \u001b[0miterator\u001b[0m\u001b[0;34m:\u001b[0m\u001b[0;34m\u001b[0m\u001b[0m\n",
      "\u001b[0;32m/home/solomon/anaconda2/envs/tensorflow/lib/python2.7/site-packages/pandas/io/parsers.pyc\u001b[0m in \u001b[0;36m__init__\u001b[0;34m(self, f, engine, **kwds)\u001b[0m\n\u001b[1;32m    762\u001b[0m             \u001b[0mself\u001b[0m\u001b[0;34m.\u001b[0m\u001b[0moptions\u001b[0m\u001b[0;34m[\u001b[0m\u001b[0;34m'has_index_names'\u001b[0m\u001b[0;34m]\u001b[0m \u001b[0;34m=\u001b[0m \u001b[0mkwds\u001b[0m\u001b[0;34m[\u001b[0m\u001b[0;34m'has_index_names'\u001b[0m\u001b[0;34m]\u001b[0m\u001b[0;34m\u001b[0m\u001b[0m\n\u001b[1;32m    763\u001b[0m \u001b[0;34m\u001b[0m\u001b[0m\n\u001b[0;32m--> 764\u001b[0;31m         \u001b[0mself\u001b[0m\u001b[0;34m.\u001b[0m\u001b[0m_make_engine\u001b[0m\u001b[0;34m(\u001b[0m\u001b[0mself\u001b[0m\u001b[0;34m.\u001b[0m\u001b[0mengine\u001b[0m\u001b[0;34m)\u001b[0m\u001b[0;34m\u001b[0m\u001b[0m\n\u001b[0m\u001b[1;32m    765\u001b[0m \u001b[0;34m\u001b[0m\u001b[0m\n\u001b[1;32m    766\u001b[0m     \u001b[0;32mdef\u001b[0m \u001b[0mclose\u001b[0m\u001b[0;34m(\u001b[0m\u001b[0mself\u001b[0m\u001b[0;34m)\u001b[0m\u001b[0;34m:\u001b[0m\u001b[0;34m\u001b[0m\u001b[0m\n",
      "\u001b[0;32m/home/solomon/anaconda2/envs/tensorflow/lib/python2.7/site-packages/pandas/io/parsers.pyc\u001b[0m in \u001b[0;36m_make_engine\u001b[0;34m(self, engine)\u001b[0m\n\u001b[1;32m    983\u001b[0m     \u001b[0;32mdef\u001b[0m \u001b[0m_make_engine\u001b[0m\u001b[0;34m(\u001b[0m\u001b[0mself\u001b[0m\u001b[0;34m,\u001b[0m \u001b[0mengine\u001b[0m\u001b[0;34m=\u001b[0m\u001b[0;34m'c'\u001b[0m\u001b[0;34m)\u001b[0m\u001b[0;34m:\u001b[0m\u001b[0;34m\u001b[0m\u001b[0m\n\u001b[1;32m    984\u001b[0m         \u001b[0;32mif\u001b[0m \u001b[0mengine\u001b[0m \u001b[0;34m==\u001b[0m \u001b[0;34m'c'\u001b[0m\u001b[0;34m:\u001b[0m\u001b[0;34m\u001b[0m\u001b[0m\n\u001b[0;32m--> 985\u001b[0;31m             \u001b[0mself\u001b[0m\u001b[0;34m.\u001b[0m\u001b[0m_engine\u001b[0m \u001b[0;34m=\u001b[0m \u001b[0mCParserWrapper\u001b[0m\u001b[0;34m(\u001b[0m\u001b[0mself\u001b[0m\u001b[0;34m.\u001b[0m\u001b[0mf\u001b[0m\u001b[0;34m,\u001b[0m \u001b[0;34m**\u001b[0m\u001b[0mself\u001b[0m\u001b[0;34m.\u001b[0m\u001b[0moptions\u001b[0m\u001b[0;34m)\u001b[0m\u001b[0;34m\u001b[0m\u001b[0m\n\u001b[0m\u001b[1;32m    986\u001b[0m         \u001b[0;32melse\u001b[0m\u001b[0;34m:\u001b[0m\u001b[0;34m\u001b[0m\u001b[0m\n\u001b[1;32m    987\u001b[0m             \u001b[0;32mif\u001b[0m \u001b[0mengine\u001b[0m \u001b[0;34m==\u001b[0m \u001b[0;34m'python'\u001b[0m\u001b[0;34m:\u001b[0m\u001b[0;34m\u001b[0m\u001b[0m\n",
      "\u001b[0;32m/home/solomon/anaconda2/envs/tensorflow/lib/python2.7/site-packages/pandas/io/parsers.pyc\u001b[0m in \u001b[0;36m__init__\u001b[0;34m(self, src, **kwds)\u001b[0m\n\u001b[1;32m   1603\u001b[0m         \u001b[0mkwds\u001b[0m\u001b[0;34m[\u001b[0m\u001b[0;34m'allow_leading_cols'\u001b[0m\u001b[0;34m]\u001b[0m \u001b[0;34m=\u001b[0m \u001b[0mself\u001b[0m\u001b[0;34m.\u001b[0m\u001b[0mindex_col\u001b[0m \u001b[0;32mis\u001b[0m \u001b[0;32mnot\u001b[0m \u001b[0mFalse\u001b[0m\u001b[0;34m\u001b[0m\u001b[0m\n\u001b[1;32m   1604\u001b[0m \u001b[0;34m\u001b[0m\u001b[0m\n\u001b[0;32m-> 1605\u001b[0;31m         \u001b[0mself\u001b[0m\u001b[0;34m.\u001b[0m\u001b[0m_reader\u001b[0m \u001b[0;34m=\u001b[0m \u001b[0mparsers\u001b[0m\u001b[0;34m.\u001b[0m\u001b[0mTextReader\u001b[0m\u001b[0;34m(\u001b[0m\u001b[0msrc\u001b[0m\u001b[0;34m,\u001b[0m \u001b[0;34m**\u001b[0m\u001b[0mkwds\u001b[0m\u001b[0;34m)\u001b[0m\u001b[0;34m\u001b[0m\u001b[0m\n\u001b[0m\u001b[1;32m   1606\u001b[0m \u001b[0;34m\u001b[0m\u001b[0m\n\u001b[1;32m   1607\u001b[0m         \u001b[0;31m# XXX\u001b[0m\u001b[0;34m\u001b[0m\u001b[0;34m\u001b[0m\u001b[0m\n",
      "\u001b[0;32mpandas/_libs/parsers.pyx\u001b[0m in \u001b[0;36mpandas._libs.parsers.TextReader.__cinit__ (pandas/_libs/parsers.c:4209)\u001b[0;34m()\u001b[0m\n",
      "\u001b[0;32mpandas/_libs/parsers.pyx\u001b[0m in \u001b[0;36mpandas._libs.parsers.TextReader._setup_parser_source (pandas/_libs/parsers.c:8873)\u001b[0;34m()\u001b[0m\n",
      "\u001b[0;31mIOError\u001b[0m: File ../train.csv does not exist"
     ]
    }
   ],
   "source": [
    "df_train = pd.read_csv(\"./train.csv\")\n",
    "df_test = pd.read_csv(\"./test.csv\")\n",
    "\n",
    "# Copy for the preprocessing\n",
    "df1_train = df_train.copy()\n",
    "df1_test = df_test.copy()\n",
    "df_total = pd.concat([df_train, df_test])\n",
    "\n",
    "data_cleaner = [df_train, df_test] # Easy application of cleaning"
   ]
  },
  {
   "cell_type": "code",
   "execution_count": null,
   "metadata": {
    "_cell_guid": "52572ee9-86f6-4f30-9524-525c53c353f0",
    "_uuid": "c4b529fcf6d67e4bdfd695a5e1e7bd4122acbb96",
    "collapsed": true
   },
   "outputs": [],
   "source": [
    "df_train.head()"
   ]
  },
  {
   "cell_type": "markdown",
   "metadata": {
    "_cell_guid": "ae6f0f2e-93f6-4da6-b059-5355bcf68506",
    "_uuid": "863252343b6001d94b900bf50c462dfe0faccfa1"
   },
   "source": [
    "# 1. Preprocessing"
   ]
  },
  {
   "cell_type": "markdown",
   "metadata": {
    "_cell_guid": "666a3e8b-6afe-4950-ab32-4f5b251c1e33",
    "_uuid": "24fb9ed5f39e9f3af67a89dc5e43351a250a615a"
   },
   "source": [
    "We know that the features are:\n",
    "* Survived: 旅客是否幸存\n",
    "* PassengerId:  旅客编号\n",
    "* Pclass: 旅客等级\n",
    "* Name: 姓名\n",
    "* Sex: 性别\n",
    "* SibSp: 携带兄妹人数\n",
    "* Parch: 携带配偶,小孩人数\n",
    "* Ticket: can have some hidden importance (maybe correlated with fare or pclass) but I will assume it has random data that can be discarded at first\n",
    "* Fare, Age: 票价,年龄\n",
    "* Cabin: 客舱编号\n",
    "* Embarked: 登船港口"
   ]
  },
  {
   "cell_type": "markdown",
   "metadata": {
    "_cell_guid": "07af88c0-f51c-4f4e-877c-74393afef0e2",
    "_uuid": "69cffe6c5e76c8ee40eaa925765337615b40e672"
   },
   "source": [
    "We can discard Ticket and PassengerId since these are assumed to be random caracters."
   ]
  },
  {
   "cell_type": "code",
   "execution_count": null,
   "metadata": {
    "_cell_guid": "31948e3c-8817-48db-9581-0b5bdc0c96dd",
    "_uuid": "bd362b393913415f4c2093668cdd7d94d23cb9f7",
    "collapsed": true,
    "scrolled": true
   },
   "outputs": [],
   "source": [
    "for df in data_cleaner:\n",
    "    df.drop([\"PassengerId\", \"Ticket\"], axis=1, inplace=True)"
   ]
  },
  {
   "cell_type": "code",
   "execution_count": null,
   "metadata": {
    "_cell_guid": "e4e5e389-f843-41c1-aeeb-bec44631abf1",
    "_uuid": "51ca85c1d60a6d39d0d093d3f06e4303c58abcc9",
    "collapsed": true
   },
   "outputs": [],
   "source": [
    "df_train.info()\n",
    "print('*'*10)\n",
    "df_test.info()"
   ]
  },
  {
   "cell_type": "markdown",
   "metadata": {
    "_cell_guid": "9906beef-3aa2-46ae-8115-2272a060b77a",
    "_uuid": "e19e1091df626eafbb83c1a0b4debef716a0964d",
    "collapsed": true
   },
   "source": [
    "## 1.1 Missing Values"
   ]
  },
  {
   "cell_type": "markdown",
   "metadata": {
    "_cell_guid": "e609b1cc-afd5-47fe-8887-7e4b33b744d0",
    "_uuid": "6eafec68ef0612011477631dc9d7dad28e5a9c97"
   },
   "source": [
    "We can see from the data loaded that there is missing values in Age, Fare, Embarked and (more critically) in Cabin features. For Fare and Age it is reasonable to pick the mean or the median (last will be used as it handles outliers better), for Embarked mode will be used. We couldn't use something similar with Cabin as it has so many missing data, so it will be assigned a letter M for missing in the examples without Cabin data."
   ]
  },
  {
   "cell_type": "code",
   "execution_count": null,
   "metadata": {
    "_cell_guid": "18ed8442-695a-4239-bdcd-50eb8a6ad219",
    "_uuid": "a3a3afc4a5129b8dde868637491d11c4ae9011cc",
    "collapsed": true
   },
   "outputs": [],
   "source": [
    "# Simple imputation\n",
    "for df in data_cleaner:\n",
    "    df[\"Age\"].fillna(df_train.Age.median(), inplace=True)\n",
    "    df[\"Fare\"].fillna(df_train.Fare.median(), inplace=True)\n",
    "    df[\"Embarked\"].fillna(df_train.Embarked.mode()[0], inplace=True)\n",
    "    df[\"Cabin\"].fillna('M', inplace=True)"
   ]
  },
  {
   "cell_type": "code",
   "execution_count": null,
   "metadata": {
    "_cell_guid": "b828a33d-695a-47eb-9c2d-b7425f19f02a",
    "_uuid": "4cf13e96dcf2a4e94b268e6cc3b62ba2299b5abb",
    "collapsed": true
   },
   "outputs": [],
   "source": [
    "# Check if there are still any missing value\n",
    "print(df_train.isnull().any())\n",
    "print('*'*10)\n",
    "print(df_test.isnull().any())"
   ]
  },
  {
   "cell_type": "markdown",
   "metadata": {
    "_cell_guid": "eecff076-23c7-4679-ab2f-87462c3e059e",
    "_uuid": "deccc14e4ce9cbe4aaf0715e08f5311438022fa8"
   },
   "source": [
    "# 1.2 Feature Engineering"
   ]
  },
  {
   "cell_type": "markdown",
   "metadata": {
    "_cell_guid": "f18f7c68-88de-4466-96d0-b1a9af384496",
    "_uuid": "92c72d417d45f3a966d169e2a7e86b8054aee0aa"
   },
   "source": [
    "We can extract title and family names from the Name feature"
   ]
  },
  {
   "cell_type": "code",
   "execution_count": null,
   "metadata": {
    "_cell_guid": "6c9f8c62-7cd1-4e47-a033-923f3bf41487",
    "_uuid": "4641c931348793421a6b96387977b41e383560eb",
    "collapsed": true
   },
   "outputs": [],
   "source": [
    "def extract_name(f):\n",
    "    return f.split(', ')[0]\n",
    "\n",
    "def extract_title(f):\n",
    "    return (f.split(\", \")[1]).split(\".\")[0]"
   ]
  },
  {
   "cell_type": "code",
   "execution_count": null,
   "metadata": {
    "_cell_guid": "430c23e0-e3e5-450e-a8d0-57d42f2d96b1",
    "_uuid": "999cd6f4072e674f1831aa22da85de14a47b12d3",
    "collapsed": true
   },
   "outputs": [],
   "source": [
    "for df in data_cleaner:\n",
    "    df[\"FamilyName\"] = df.Name.apply(extract_name)\n",
    "    df[\"Title\"] = df.Name.apply(extract_title)"
   ]
  },
  {
   "cell_type": "markdown",
   "metadata": {
    "_cell_guid": "06aab980-947a-49d0-a1fa-35bcda4fc35c",
    "_uuid": "fd006ccfc9a503aaacdcf1536797556a8976906d"
   },
   "source": [
    "### 1.2.1 Family Name"
   ]
  },
  {
   "cell_type": "code",
   "execution_count": null,
   "metadata": {
    "_cell_guid": "5fb1ab63-b57c-4238-aaaa-06a40821d0d3",
    "_uuid": "3876ceeeb60a17e2270284df83f50fa1dce395bd",
    "collapsed": true
   },
   "outputs": [],
   "source": [
    "df_train.FamilyName.value_counts().head(10)"
   ]
  },
  {
   "cell_type": "markdown",
   "metadata": {
    "_cell_guid": "f6a09db7-ac22-4dd4-a7fa-ac27599e67a6",
    "_uuid": "4078b4763608b4aaa872f3da0eb8f7c947c9d5fe"
   },
   "source": [
    "We can pick categories for names with more than 5 individuals:"
   ]
  },
  {
   "cell_type": "code",
   "execution_count": null,
   "metadata": {
    "_cell_guid": "79f52394-56c9-43da-9d50-4a1f5ae6dedc",
    "_uuid": "c7ff0c0068efb5f730021ce15b3c01c0cc693f37",
    "collapsed": true
   },
   "outputs": [],
   "source": [
    "family_names = df_train.FamilyName\n",
    "\n",
    "for df in data_cleaner:\n",
    "    df[\"FamilyName\"] = df.FamilyName.apply(lambda f: f if f in family_names.unique() and\n",
    "                                     family_names.value_counts()[f] > 5 else 'Other')"
   ]
  },
  {
   "cell_type": "code",
   "execution_count": null,
   "metadata": {
    "_cell_guid": "b94551fc-002a-41f4-898f-caf78d3659ff",
    "_uuid": "e9a716d34761c203dccc126b3a49c7d4f99177fa",
    "collapsed": true
   },
   "outputs": [],
   "source": [
    "df_train['FamilyName'].value_counts()"
   ]
  },
  {
   "cell_type": "code",
   "execution_count": null,
   "metadata": {
    "_cell_guid": "ef4290cf-55d8-4f9b-a8ac-c366e11fdf0a",
    "_uuid": "ae86f8e002ffd546be8cbca849872520f50cb15a",
    "collapsed": true
   },
   "outputs": [],
   "source": [
    "plt.figure(figsize=(14,6))\n",
    "sns.barplot(\"FamilyName\", \"Survived\", data=df_train)\n",
    "plt.show()"
   ]
  },
  {
   "cell_type": "code",
   "execution_count": null,
   "metadata": {
    "_cell_guid": "2db41ac7-6660-454e-a1e8-d9ae4bbae3bb",
    "_uuid": "0338c2f2c4a06daae68b14e6ab6c368f8d7b6441",
    "collapsed": true
   },
   "outputs": [],
   "source": [
    "# For now I think these numbers has little to contribute\n",
    "for df in data_cleaner:\n",
    "    df.drop([\"FamilyName\"], axis=1, inplace=True)"
   ]
  },
  {
   "cell_type": "markdown",
   "metadata": {
    "_cell_guid": "40907076-d286-43da-97a7-6bd5309beb04",
    "_uuid": "5ce6e43b1adc1d2483ff20102c0a1ddb2f71c85a"
   },
   "source": [
    "### 1.2.2 Title"
   ]
  },
  {
   "cell_type": "code",
   "execution_count": null,
   "metadata": {
    "_cell_guid": "904c39f8-473a-461d-b011-16bed723b157",
    "_uuid": "1e038425349aa1b3f7242b5531f4c7d938e66c7f",
    "collapsed": true
   },
   "outputs": [],
   "source": [
    "titles = df_train.Title"
   ]
  },
  {
   "cell_type": "code",
   "execution_count": null,
   "metadata": {
    "_cell_guid": "46feeb97-4410-44c1-a9c4-487cfea06dd3",
    "_uuid": "cc63efb5a96a32096698770d1c58b815f89199bb",
    "collapsed": true
   },
   "outputs": [],
   "source": [
    "titles.value_counts()"
   ]
  },
  {
   "cell_type": "markdown",
   "metadata": {
    "_cell_guid": "2910b32f-6e64-445a-9d5b-16c1c1f0a75c",
    "_uuid": "3c5bda3dbde2536ddb80989ad077c832019b2318",
    "collapsed": true
   },
   "source": [
    "We first can group some of the classes togheter and then realize the same analysis as the above."
   ]
  },
  {
   "cell_type": "code",
   "execution_count": null,
   "metadata": {
    "_cell_guid": "62b1aee5-f205-483e-ab8e-d1417931365b",
    "_uuid": "17fa8d1365f498a99d7d60b38a47b4596d89303d",
    "collapsed": true
   },
   "outputs": [],
   "source": [
    "miss = [\"Ms\", \"Mlle\"]\n",
    "mrs = [\"Mme\"]\n",
    "\n",
    "for df in data_cleaner:\n",
    "    df[\"Title\"] = df.Title.apply(lambda f: 'Miss' if f in miss else f)\n",
    "    df[\"Title\"] = df.Title.apply(lambda f: 'Mrs' if f in mrs else f)"
   ]
  },
  {
   "cell_type": "code",
   "execution_count": null,
   "metadata": {
    "_cell_guid": "38b210a4-6e14-488d-a798-0bc461525203",
    "_uuid": "d4ee15c23369ec10dced67cccc88ed14536b6cd7",
    "collapsed": true
   },
   "outputs": [],
   "source": [
    "titles = df_train.Title\n",
    "\n",
    "for df in data_cleaner:\n",
    "    df[\"Title\"] = df.Title.apply(lambda f: f if f in titles.unique() and\n",
    "                                     titles.value_counts()[f] > 10 else 'Rare')"
   ]
  },
  {
   "cell_type": "code",
   "execution_count": null,
   "metadata": {
    "_cell_guid": "b141c6ca-a08c-4c71-989e-fb04c43b9e28",
    "_uuid": "1fdf6019a4cd19e8014fca98bd756415dc9df4dd",
    "collapsed": true
   },
   "outputs": [],
   "source": [
    "df_train['Title'].value_counts()"
   ]
  },
  {
   "cell_type": "code",
   "execution_count": null,
   "metadata": {
    "_cell_guid": "21e73054-bf2e-47ea-ba8c-d95aaef038cc",
    "_uuid": "102a51124b1b0fe0c9fd91967b20dcefe7654f18",
    "collapsed": true
   },
   "outputs": [],
   "source": [
    "plt.figure(figsize=(14,6))\n",
    "sns.barplot('Title', 'Survived', data=df_train)\n",
    "plt.show()"
   ]
  },
  {
   "cell_type": "markdown",
   "metadata": {
    "_cell_guid": "db5a217f-4406-4d53-b4b7-51a1b8d9484a",
    "_uuid": "ea0d8d6b9d7662c447d7bf5a91a6e32e75982238"
   },
   "source": [
    "From Mr, Mrs and Miss we see some intersection with the Sex feature. Master seems to indicate correlation with age, so we can create a variable holding if individual is a child"
   ]
  },
  {
   "cell_type": "markdown",
   "metadata": {
    "_cell_guid": "915a94ea-45f1-4cab-83ab-fe701cbfa926",
    "_uuid": "0fe7d197a0a527a0ac59b099148ff0e717631785"
   },
   "source": [
    "### 1.2.3 Child"
   ]
  },
  {
   "cell_type": "code",
   "execution_count": null,
   "metadata": {
    "_cell_guid": "55f8c17e-28b6-46bd-8c5e-09c6ee6c0629",
    "_uuid": "1d9dee6b5b79bdfefdf855bd42bd8ca5d5d4d9d7",
    "collapsed": true
   },
   "outputs": [],
   "source": [
    "plt.figure(figsize=(14,8))\n",
    "sns.distplot(df_train['Age'][df_train.Survived == 1], color='b')\n",
    "sns.distplot(df_train['Age'][df_train.Survived == 0], color='r')\n",
    "plt.xticks(range(0,92,2))\n",
    "plt.legend(['Survived', 'Died'])\n",
    "plt.show()"
   ]
  },
  {
   "cell_type": "markdown",
   "metadata": {
    "_cell_guid": "4e39996e-18d2-4b8b-88c9-6eab0d58db51",
    "_uuid": "817850e6eb5cdc835a775c9e808471f8930ac40f"
   },
   "source": [
    "From the plot 16 seems to be a good point for determining as a child"
   ]
  },
  {
   "cell_type": "code",
   "execution_count": null,
   "metadata": {
    "_cell_guid": "451cea8a-5068-4af7-9147-d1f03283e7e7",
    "_uuid": "d87f54e129781242aa543374ffc8a252cd411776",
    "collapsed": true
   },
   "outputs": [],
   "source": [
    "for df in data_cleaner:\n",
    "    df['IsChild'] = df['Age'] < 16"
   ]
  },
  {
   "cell_type": "code",
   "execution_count": null,
   "metadata": {
    "_cell_guid": "de5986e5-4f68-446e-b729-0fb4c85cc883",
    "_uuid": "313d55b412ada53b652d6194534c46b9debec75d",
    "collapsed": true
   },
   "outputs": [],
   "source": [
    "sns.barplot('IsChild', 'Survived', data=df_train)\n",
    "plt.show()"
   ]
  },
  {
   "cell_type": "markdown",
   "metadata": {
    "_cell_guid": "cf6b832f-9a68-401a-b2e7-66b6eac9d694",
    "_uuid": "a80ea4f2ffdd5fd57b0e4fceda6d7ee2ec763583"
   },
   "source": [
    "### 1.2.3 Family Size"
   ]
  },
  {
   "cell_type": "code",
   "execution_count": null,
   "metadata": {
    "_cell_guid": "8a8c162a-9861-410f-ae81-d49b9fcad8fc",
    "_uuid": "d7ffbb50988ec46e81457fb558e852d76cf58eda",
    "collapsed": true
   },
   "outputs": [],
   "source": [
    "plt.subplot(121)\n",
    "sns.barplot('SibSp', 'Survived', data=df_train)\n",
    "plt.subplot(122)\n",
    "sns.barplot('Parch', 'Survived', data=df_train)\n",
    "plt.show()"
   ]
  },
  {
   "cell_type": "markdown",
   "metadata": {
    "_cell_guid": "e6d34871-46b3-4216-a41b-7f555756e9fc",
    "_uuid": "6ff7a931de8ec47bae9b5de775ea9812cd052a3c"
   },
   "source": [
    "We can easily create a new feature called family size for Parch + SibSp + Himself/Herself"
   ]
  },
  {
   "cell_type": "code",
   "execution_count": null,
   "metadata": {
    "_cell_guid": "953f9d90-cf58-415f-9275-c6a5984187e9",
    "_uuid": "553ee160272d54a4efb2e0979c9ad623da1ea57f",
    "collapsed": true
   },
   "outputs": [],
   "source": [
    "for df in data_cleaner:\n",
    "    df[\"FamilySize\"] = df.Parch + df.SibSp +1"
   ]
  },
  {
   "cell_type": "code",
   "execution_count": null,
   "metadata": {
    "_cell_guid": "bb799dfb-b21b-4710-9ee3-2404f28f24a1",
    "_uuid": "45d7eeb5e63c80a55d6849f24c7464b3c5ae2e72",
    "collapsed": true
   },
   "outputs": [],
   "source": [
    "sns.barplot('FamilySize', 'Survived', data=df_train)\n",
    "plt.show()"
   ]
  },
  {
   "cell_type": "markdown",
   "metadata": {
    "_cell_guid": "2ec9a8bb-f050-49c3-8a0e-885a3fd4c663",
    "_uuid": "a63d269bb364bad540752df2b3babe629f579039"
   },
   "source": [
    "We can also define binary variables for alone individuals and individuals with a large family"
   ]
  },
  {
   "cell_type": "code",
   "execution_count": null,
   "metadata": {
    "_cell_guid": "8fecb830-60aa-4645-bd42-006786ad0427",
    "_uuid": "19e6ca26b5224f610eadff572121faabf73bf945",
    "collapsed": true
   },
   "outputs": [],
   "source": [
    "for df in data_cleaner:\n",
    "    df[\"IsAlone\"] = df[\"FamilySize\"] == 1\n",
    "    df[\"LargeFamily\"] = df[\"FamilySize\"] >= 5"
   ]
  },
  {
   "cell_type": "code",
   "execution_count": null,
   "metadata": {
    "_cell_guid": "4ab70a0d-7d9f-4b23-82d5-0a09d1e5480e",
    "_uuid": "bc2ec8aa73fe4bbaae79d90b0ca71bbd30cc6ccb",
    "collapsed": true
   },
   "outputs": [],
   "source": [
    "plt.subplot(121)\n",
    "sns.barplot('IsAlone', 'Survived', data=df_train)\n",
    "plt.subplot(122)\n",
    "sns.barplot('LargeFamily', 'Survived', data=df_train)\n",
    "plt.show()"
   ]
  },
  {
   "cell_type": "markdown",
   "metadata": {
    "_cell_guid": "d719948a-a48d-44e5-88d8-38d6182c2eee",
    "_uuid": "6c1a6556f6297f96791ab88dd9ac7a04ee8e524e"
   },
   "source": [
    "### 1.2.4 Fare and Age bins"
   ]
  },
  {
   "cell_type": "code",
   "execution_count": null,
   "metadata": {
    "_cell_guid": "9aa87ddc-c530-4665-a538-024cc581c977",
    "_uuid": "1834cae85984fa647f2725aa7cfd5a8fb6982af8",
    "collapsed": true
   },
   "outputs": [],
   "source": [
    "sns.distplot(df_train['Fare'][df_train.Survived == 1], color='b')\n",
    "sns.distplot(df_train['Fare'][df_train.Survived == 0], color='r')\n",
    "plt.legend(['Survived', 'Died'])\n",
    "plt.show()"
   ]
  },
  {
   "cell_type": "markdown",
   "metadata": {
    "_cell_guid": "1eeb5a6d-7cef-4eab-ae33-b1a2aa9e55ec",
    "_uuid": "35168b32e978267cd14df6a1a45c73045ec633e2"
   },
   "source": [
    "Another way of seeing the fare and age variables is by diividing into classes. I will Fare in 4 portions of equal individuals and Age in 5 portions of equal range"
   ]
  },
  {
   "cell_type": "code",
   "execution_count": null,
   "metadata": {
    "_cell_guid": "45c0d13c-9f1a-44cc-9cf5-2a48c0d5b174",
    "_uuid": "ab8730e744daa84ee996912984a9f45a5be319a3",
    "collapsed": true
   },
   "outputs": [],
   "source": [
    "_, fare_bins = pd.qcut(df_total['Fare'], 4, retbins=True)\n",
    "fare_bins[0] -= 0.001 # dirty fix\n",
    "_, age_bins = pd.cut(df_total['Age'], 5, retbins=True)\n",
    "for df in data_cleaner:\n",
    "    df[\"FareBin\"] = pd.cut(df['Fare'], fare_bins)\n",
    "    df[\"AgeBin\"] = pd.cut(df['Age'], age_bins)"
   ]
  },
  {
   "cell_type": "code",
   "execution_count": null,
   "metadata": {
    "_cell_guid": "367919ca-4e6f-49ab-b045-d88c9e29dbdf",
    "_uuid": "4d2105c25619d3e0e3184ccdbb23813dd4c9c93f",
    "collapsed": true
   },
   "outputs": [],
   "source": [
    "plt.subplot(121)\n",
    "sns.barplot('FareBin', 'Survived', data=df_train)\n",
    "plt.subplot(122)\n",
    "sns.barplot('AgeBin', 'Survived', data=df_train)\n",
    "plt.show()"
   ]
  },
  {
   "cell_type": "markdown",
   "metadata": {
    "_cell_guid": "12029b24-032e-4e42-a841-f5be3f7425bc",
    "_uuid": "a06b8a84f50c50f88b9911e5c6fd587f4c2949da"
   },
   "source": [
    "AgeBins dont seem to be very imortant to the analysis, but child and old yes. I will create another category for the elder"
   ]
  },
  {
   "cell_type": "code",
   "execution_count": null,
   "metadata": {
    "_cell_guid": "904687b5-8c95-45e6-8342-34ddc7b82ac5",
    "_uuid": "4362834b0ca9f82eb8dbe4071853f151b4e3d071",
    "collapsed": true
   },
   "outputs": [],
   "source": [
    "for df in data_cleaner:\n",
    "    df['IsOld'] = df['Age'] > 63"
   ]
  },
  {
   "cell_type": "code",
   "execution_count": null,
   "metadata": {
    "_cell_guid": "57a1e8dc-2d7f-4bb2-8c32-dae66ef942b0",
    "_uuid": "55b3c6aeccc3cc5311094213122c370a64492a5f",
    "collapsed": true
   },
   "outputs": [],
   "source": [
    "df_train.columns"
   ]
  },
  {
   "cell_type": "markdown",
   "metadata": {
    "_cell_guid": "41bd0bec-b01e-4269-8458-b856d3b36762",
    "_uuid": "3eb8e4e35b615854aed9d46dc014c4f47380e846"
   },
   "source": [
    "## 1.3 Cleaning"
   ]
  },
  {
   "cell_type": "code",
   "execution_count": null,
   "metadata": {
    "_cell_guid": "b0aace17-de57-4d19-ba9f-008038455a84",
    "_uuid": "760ec3d21ffe30c0fef1d9414eb64a1bf4997fb0",
    "collapsed": true
   },
   "outputs": [],
   "source": [
    "# Double check missing values\n",
    "for df in data_cleaner:\n",
    "    print(df.isnull().any())"
   ]
  },
  {
   "cell_type": "markdown",
   "metadata": {
    "_cell_guid": "ea2d10fe-1f89-49cb-95b8-d734e572488a",
    "_uuid": "cdb0a0334b533602db20ecce06acc14aa1e3206a"
   },
   "source": [
    "I will limit my analysis to the letter of the Cabin."
   ]
  },
  {
   "cell_type": "code",
   "execution_count": null,
   "metadata": {
    "_cell_guid": "d70d2e74-ae22-4875-9142-429fecdf5b55",
    "_uuid": "0d0d631afff3ddb16b283b2db5179daf41cb3eb1",
    "collapsed": true
   },
   "outputs": [],
   "source": [
    "for df in data_cleaner:\n",
    "    df[\"Cabin\"] = df[\"Cabin\"].apply(lambda f: f[0])"
   ]
  },
  {
   "cell_type": "markdown",
   "metadata": {
    "_cell_guid": "39a7d9b6-d636-4bcf-8bb3-b16ba1efed75",
    "_uuid": "5aac66090a2dc77c4d96fe7cd6632f1c53776716"
   },
   "source": [
    "## 1.4 Converting the Formats"
   ]
  },
  {
   "cell_type": "markdown",
   "metadata": {
    "_cell_guid": "d0f630d6-c3f8-4209-a61d-bf0fc7c771f6",
    "_uuid": "31502151c9e8ced1508120a5775545121b99373a"
   },
   "source": [
    "Create code variables for the categorical data"
   ]
  },
  {
   "cell_type": "code",
   "execution_count": null,
   "metadata": {
    "_cell_guid": "3ed52aca-aeea-4994-9761-6f1dba3f9555",
    "_uuid": "edfd7209540c7ac98cc3e18b13548e6b815079d7",
    "collapsed": true
   },
   "outputs": [],
   "source": [
    "# Encode categorical data\n",
    "label = LabelEncoder()\n",
    "for df in data_cleaner:    \n",
    "    df['Sex_Code'] = label.fit_transform(df['Sex'])\n",
    "    df['Embarked_Code'] = label.fit_transform(df['Embarked'])\n",
    "    df['Title_Code'] = label.fit_transform(df['Title'])\n",
    "    df['AgeBin_Code'] = label.fit_transform(df['AgeBin'])\n",
    "    df['FareBin_Code'] = label.fit_transform(df['FareBin'])\n",
    "    df['Cabin_Code'] = label.fit_transform(df[\"Cabin\"])\n",
    "     # Pclass can be viewed as categorical or simply an integer variable, which is best?\n",
    "    df['Pclass'] = df.Pclass.astype('category')"
   ]
  },
  {
   "cell_type": "code",
   "execution_count": null,
   "metadata": {
    "_cell_guid": "67327b22-6491-4b26-abce-bcceaccdac63",
    "_uuid": "2add5c69ec9c483f89056bafcea172265cde0213",
    "collapsed": true
   },
   "outputs": [],
   "source": [
    "df_train.columns"
   ]
  },
  {
   "cell_type": "code",
   "execution_count": null,
   "metadata": {
    "_cell_guid": "0c60ff94-4381-450f-8d56-a8d33d565d4a",
    "_uuid": "77c465a4e320731ffb930bf8a7338398a12cfc96",
    "collapsed": true
   },
   "outputs": [],
   "source": [
    "# define masks\n",
    "\n",
    "# target variable\n",
    "target = ['Survived']\n",
    "\n",
    "# pretty categorical names\n",
    "data_pretty = ['Age', 'Pclass', 'Title', 'Sex', 'SibSp', 'Parch', 'Fare', 'Cabin', 'Embarked',\n",
    "                'FamilySize', 'FareBin', 'AgeBin', 'IsAlone', 'IsOld', 'IsChild', 'LargeFamily']\n",
    "\n",
    "# continuous and integer variables\n",
    "data_numbers = ['Age', 'SibSp', 'Parch', 'Fare', 'FamilySize']\n",
    "\n",
    "# age and fare bins\n",
    "data_bins = ['AgeBin_Code', 'FareBin_Code']\n",
    "\n",
    "# categorical variables\n",
    "data_cat = ['Pclass', 'Title', 'Sex', 'Cabin', 'Embarked' 'IsAlone',\n",
    "            'IsOld', 'IsChild', 'LargeFamily']\n",
    "\n",
    "# encoded categorical variables\n",
    "data_code = ['Pclass', 'Title_Code', 'Sex_Code', 'Cabin_Code', 'Embarked_Code',\n",
    "             'IsAlone', 'IsOld', 'IsChild', 'LargeFamily']"
   ]
  },
  {
   "cell_type": "markdown",
   "metadata": {
    "_cell_guid": "f0cfb7d8-c0cb-458d-a654-73bc7b518809",
    "_uuid": "3673f0e25c9177ec5a58cb9a9ab8e570d3613f2b"
   },
   "source": [
    "Create a dummy df of the categorical data"
   ]
  },
  {
   "cell_type": "code",
   "execution_count": null,
   "metadata": {
    "_cell_guid": "784118c9-dc60-42af-9b18-18f261f177a7",
    "_uuid": "96e7c3016566f1df02d9cf6aaf392ee61d6a212a",
    "collapsed": true
   },
   "outputs": [],
   "source": [
    "dummy_train = pd.get_dummies(df_train[data_pretty + target])\n",
    "dummy_test = pd.get_dummies(df_test[data_pretty])\n",
    "\n",
    "# mask for dummy variables\n",
    "dummy_labels = dummy_test.columns.tolist()"
   ]
  },
  {
   "cell_type": "code",
   "execution_count": null,
   "metadata": {
    "_cell_guid": "4387247b-43fe-43b7-9432-6249aa3558ba",
    "_uuid": "542badca782db9e915437729f000306d0d2e8258",
    "collapsed": true
   },
   "outputs": [],
   "source": [
    "dummy_train.head()"
   ]
  },
  {
   "cell_type": "code",
   "execution_count": null,
   "metadata": {
    "_cell_guid": "ac8ad954-b156-4b71-b63e-005cccbea61c",
    "_uuid": "ab2538237cd36abae9773dfeeb00536069b48f23",
    "collapsed": true
   },
   "outputs": [],
   "source": [
    "df_train[data_numbers].describe()"
   ]
  },
  {
   "cell_type": "markdown",
   "metadata": {
    "_cell_guid": "278a06d5-922a-4d55-8ae3-7098d54c7444",
    "_uuid": "f1e36eb8c591f4068faad18cba55d1472eb5d514"
   },
   "source": [
    "# 3. Visualization"
   ]
  },
  {
   "cell_type": "code",
   "execution_count": null,
   "metadata": {
    "_cell_guid": "7586d7e3-5bdf-43fa-82e5-8438320833cf",
    "_uuid": "cd055e16c862e76ebab8737f0d100d72e2cfd204",
    "collapsed": true
   },
   "outputs": [],
   "source": [
    "# Histogram of each feature count and survival count\n",
    "df_train[data_numbers + data_code].hist(color='g')\n",
    "df_train[data_numbers + data_code][df_train[\"Survived\"] == 1].hist()\n",
    "plt.show()"
   ]
  },
  {
   "cell_type": "code",
   "execution_count": null,
   "metadata": {
    "_cell_guid": "22fc810a-99c4-4438-bbe6-a985c5be1a13",
    "_uuid": "9e36e058aba2f6d29b65c0ac27d88dcb614b89e5",
    "collapsed": true
   },
   "outputs": [],
   "source": [
    "# Who survived per group\n",
    "for x in data_pretty:\n",
    "    if df_train[x].dtype != 'float64' :\n",
    "        print('Survival Correlation by:', x)\n",
    "        print(df_train[[x, target[0]]].groupby(x, as_index=False).mean())\n",
    "        print('-'*10, '\\n')"
   ]
  },
  {
   "cell_type": "code",
   "execution_count": null,
   "metadata": {
    "_cell_guid": "92d2f1f5-9543-48e9-989f-13207a7d0a0d",
    "_uuid": "f4cb94a7203ae03c12a38abfc8a273861654fca4",
    "collapsed": true
   },
   "outputs": [],
   "source": [
    "# Correlation Matrix\n",
    "df_train.corr()"
   ]
  },
  {
   "cell_type": "code",
   "execution_count": null,
   "metadata": {
    "_cell_guid": "38b79e5a-5ee9-400a-8b45-3344606da66c",
    "_uuid": "d32804c5859e4016adf5cd7949b4ce20c3a6898d",
    "collapsed": true
   },
   "outputs": [],
   "source": [
    "# Correlation Heatmap\n",
    "\n",
    "def correlation_heatmap(df):\n",
    "    _ , ax = plt.subplots(figsize =(14, 12))\n",
    "    colormap = sns.diverging_palette(220, 10, as_cmap = True)\n",
    "    colormap = sns.color_palette(\"coolwarm\", 100)\n",
    "    \n",
    "    _ = sns.heatmap(\n",
    "        df.corr(), \n",
    "        cmap = colormap,\n",
    "        square=True, \n",
    "        cbar_kws={'shrink':.9 }, \n",
    "        ax=ax,\n",
    "        annot=True, \n",
    "        linewidths=0.1,vmax=1.0, linecolor='white',\n",
    "        annot_kws={'fontsize':12 }\n",
    "    )\n",
    "    \n",
    "    plt.title('Pearson Correlation of Features', y=1.05, size=15)\n",
    "\n",
    "correlation_heatmap(df_train)"
   ]
  },
  {
   "cell_type": "code",
   "execution_count": null,
   "metadata": {
    "_cell_guid": "27bdeb91-98fc-4b90-bb92-5b778d3acab2",
    "_uuid": "07e323337a84dfaee73078c2d6efef52ad55449a",
    "collapsed": true
   },
   "outputs": [],
   "source": [
    "# Violin plots for sex-age-fare analysis\n",
    "\n",
    "fig, (axis1,axis2,axis3) = plt.subplots(1,3,figsize=(14,10))\n",
    "sns.violinplot(x = 'Sex', y = 'Age', hue = 'Survived', data = df_train, split = True, ax = axis1, palette=\"Set1\")\n",
    "axis1.set_title('Sex vs Age Survival Comparison')\n",
    "sns.violinplot(x = 'Pclass', y = 'Age', hue = 'Survived', data = df_train, split = True, ax = axis2, palette=\"Set1\")\n",
    "axis2.set_title('Pclass vs Age Survival Comparison')\n",
    "sns.violinplot(x = 'Sex', y = 'Fare', hue = 'Survived', data = df_train, split = True, ax = axis3, palette=\"Set1\")\n",
    "axis3.set_title('Sex vs Fare Survival Comparison')\n",
    "fig.suptitle(\"Sex, Age, Fare Analysis\", fontsize=18)\n",
    "plt.show()"
   ]
  },
  {
   "cell_type": "code",
   "execution_count": null,
   "metadata": {
    "_cell_guid": "0900c88b-945e-4092-8313-8fa8c61ca8de",
    "_uuid": "174a8cf22e6f722db64c3e1044d18f0d02069b7c",
    "collapsed": true
   },
   "outputs": [],
   "source": [
    "plt.figure(figsize=(14,10))\n",
    "plt.suptitle(\"Percentage of survivors per group\", fontsize=18)\n",
    "plt.subplot(231)\n",
    "sns.barplot('Sex', 'Survived', data=df_train)\n",
    "plt.subplot(232)\n",
    "sns.barplot('AgeBin_Code', 'Survived', data=df_train)\n",
    "plt.subplot(233)\n",
    "sns.barplot('Embarked', 'Survived', data=df_train)\n",
    "plt.subplot(234)\n",
    "sns.barplot('FareBin_Code', 'Survived', data=df_train)\n",
    "plt.subplot(235)\n",
    "sns.barplot('FamilySize', 'Survived', data=df_train)\n",
    "plt.subplot(236)\n",
    "sns.barplot('Pclass', 'Survived', data=df_train)\n",
    "plt.show()"
   ]
  },
  {
   "cell_type": "code",
   "execution_count": null,
   "metadata": {
    "_cell_guid": "9d77fd7b-cf1f-4202-b9cc-2088b620d83c",
    "_uuid": "342cb36eea0d6d6d9e2d60631b30c007f15435e0",
    "collapsed": true
   },
   "outputs": [],
   "source": [
    "plt.figure(figsize=(14,20))\n",
    "plt.subplot(211)\n",
    "sns.distplot(df_train['Fare'][df_train.Survived == 1], color='b')\n",
    "sns.distplot(df_train['Fare'][df_train.Survived == 0], color='r')\n",
    "plt.legend([\"Survived\", \"Died\"])\n",
    "plt.subplot(223)\n",
    "sns.boxplot('Pclass', 'Fare', 'Survived', df_train, orient='v')\n",
    "plt.ylim((0,150))\n",
    "ax1 = plt.subplot(224)\n",
    "tab = pd.crosstab(df_train['Pclass'], df_train['FareBin'])\n",
    "tab.div(tab.sum(1).astype(float), axis=0).plot(kind=\"bar\", stacked=True, ax=ax1)\n",
    "plt.xlabel('Pclass')\n",
    "plt.ylabel('FareBin')\n",
    "plt.legend(frameon=True)\n",
    "\n",
    "plt.suptitle(\"Fare Analysis\", fontsize=18)\n",
    "plt.show()"
   ]
  },
  {
   "cell_type": "code",
   "execution_count": null,
   "metadata": {
    "_cell_guid": "6897c266-8391-4803-9d7c-c9468d92b817",
    "_uuid": "d212c87caeb894d0744ccf4e821b369b9274c13b",
    "collapsed": true,
    "scrolled": true
   },
   "outputs": [],
   "source": [
    "# Cabins\n",
    "\n",
    "# mask\n",
    "cabin_M = df_train[\"Cabin\"] == 'M'\n",
    "cabin_Mn = df_train[\"Cabin\"] != 'M'\n",
    "\n",
    "plt.subplot(211)\n",
    "sns.barplot(\"Cabin\", \"Survived\", data=df_train)\n",
    "plt.subplot(223)\n",
    "plt.bar('Missing', df_train.Cabin[cabin_M].count())\n",
    "plt.bar('Not Missing', df_train.Cabin[cabin_Mn].count())\n",
    "plt.subplot(224)\n",
    "df_cabin = df_train.copy()\n",
    "df_cabin[\"Cabin_Missing\"] = df_train[\"Cabin\"].apply(lambda f: 1 if f == 'M' else 0)\n",
    "sns.barplot(\"Cabin_Missing\", \"Survived\", data=df_cabin)\n",
    "plt.show()"
   ]
  },
  {
   "cell_type": "markdown",
   "metadata": {
    "_cell_guid": "6400b968-8953-4dac-b1a1-b87ff248d076",
    "_uuid": "634aa9d11c0b9e539d3c92fc476a4ce4f3b6629b"
   },
   "source": [
    "From these plots I think analysing Missing vs Non-missing better than to consider each cabin letter."
   ]
  },
  {
   "cell_type": "code",
   "execution_count": null,
   "metadata": {
    "_cell_guid": "fdfbf313-de13-44e9-a1b5-f6f1906d52c1",
    "_uuid": "694d247e64959250af865bad654994bca183a71d",
    "collapsed": true
   },
   "outputs": [],
   "source": [
    "for df in data_cleaner:\n",
    "    df['Cabin_Missing'] = df.Cabin == 'M'\n",
    "dummy_train['Cabin_Missing'] = df_train.Cabin == 'M'\n",
    "dummy_test['Cabin_Missing'] = df_test.Cabin == 'M'"
   ]
  },
  {
   "cell_type": "markdown",
   "metadata": {
    "_cell_guid": "cd8206f1-e853-4b6b-913d-ca2c0e0dd55a",
    "_uuid": "8e5fefc5087ad63209b1fcc8474e0d460e1c87a1"
   },
   "source": [
    "# 4. Learning: Logistic Regression"
   ]
  },
  {
   "cell_type": "markdown",
   "metadata": {
    "_cell_guid": "0a5699d8-8ff7-4485-9f9b-2fc4f70a57f9",
    "_uuid": "99292b5e8917c89e9fbd99f0631d779c770b4925"
   },
   "source": [
    "I will create a test set to evaluate my model"
   ]
  },
  {
   "cell_type": "code",
   "execution_count": null,
   "metadata": {
    "_cell_guid": "d01e9e85-b65a-4fe5-a4a4-6b1bb975953a",
    "_uuid": "c26d8a7e4c093557d127879b5bc69016e8f5fb22",
    "collapsed": true
   },
   "outputs": [],
   "source": [
    "for e in dummy_train.columns:\n",
    "    if e not in dummy_test.columns:\n",
    "        print(e)\n",
    "print('*'*10)\n",
    "for e in dummy_test.columns:\n",
    "    if e not in dummy_train.columns:\n",
    "        print(e)"
   ]
  },
  {
   "cell_type": "code",
   "execution_count": null,
   "metadata": {
    "_cell_guid": "51c957d9-620f-4477-ab32-c41f66fb1303",
    "_uuid": "a466233ea379269abb1743c99ec99e8e8c046133",
    "collapsed": true
   },
   "outputs": [],
   "source": [
    "dummy_test['Cabin_T'] = 0 #dirty fix"
   ]
  },
  {
   "cell_type": "code",
   "execution_count": null,
   "metadata": {
    "_cell_guid": "1b9ffba5-5953-4e24-88d5-76afc616685a",
    "_uuid": "cea2522a5f148ccc49ed9acee6919eebfe02ae5f",
    "collapsed": true
   },
   "outputs": [],
   "source": [
    "dummy_test.columns"
   ]
  },
  {
   "cell_type": "code",
   "execution_count": null,
   "metadata": {
    "_cell_guid": "cf7e885c-c52e-4d44-af3d-d7201b10ce21",
    "_uuid": "20b124b0ceb28e3236c9d431b4381725ea18a839",
    "collapsed": true
   },
   "outputs": [],
   "source": [
    "# Features mask\n",
    "# features = [\"AgeBin_(0.0902, 16.136]\", \"AgeBin_(16.136, 32.102]\", \"AgeBin_(32.102, 48.068]\",\n",
    "#             \"AgeBin_(48.068, 64.034]\", \"AgeBin_(64.034, 80.0]\", \"Cabin_M\", \"Sex_female\",\n",
    "#             \"Parch\", \"SibSp\", \"FamilySize\", \"Embarked_Q\", \"Embarked_S\", \"Embarked_C\", \"Title_Rare\",\n",
    "#             \"Title_Master\", \"Title_Miss\", \"Title_Mr\", \"Title_Mrs\", \"FareBin_(-0.001, 7.896]\",\n",
    "#             \"FareBin_(7.896, 14.454]\", \"FareBin_(14.454, 31.275]\", \"FareBin_(31.275, 512.329]\",\n",
    "#             \"Pclass_1\", \"Pclass_2\", \"Pclass_3\"]\n",
    "\n",
    "features = ['IsChild', 'IsOld', 'IsAlone', 'LargeFamily', 'Sex_female', \"FareBin_(-0.001, 7.896]\",\n",
    "            \"FareBin_(7.896, 14.454]\", \"FareBin_(14.454, 31.275]\", \"FareBin_(31.275, 512.329]\",\n",
    "            \"Pclass_1\", \"Pclass_2\", \"Pclass_3\", \"Embarked_Q\", \"Embarked_S\", \"Embarked_C\",\n",
    "           \"Title_Rare\", 'Cabin_Missing']"
   ]
  },
  {
   "cell_type": "code",
   "execution_count": null,
   "metadata": {
    "_cell_guid": "64bff083-913f-4741-8757-0b130b45c79b",
    "_uuid": "276c6365e41930cc62aabc08779493493cab45d1",
    "collapsed": true
   },
   "outputs": [],
   "source": [
    "from sklearn.model_selection import train_test_split\n",
    "X, X_test, y, y_test = train_test_split(dummy_train[features].values, dummy_train[target].values, test_size=0.25, stratify=dummy_train[target].values)\n",
    "X.shape, X_test.shape, y.shape, y_test.shape"
   ]
  },
  {
   "cell_type": "code",
   "execution_count": null,
   "metadata": {
    "_cell_guid": "456d6528-642c-4c62-8d7d-6891bee7a126",
    "_uuid": "00716040efb7c495058c90eb548409f326393380",
    "collapsed": true
   },
   "outputs": [],
   "source": [
    "params = {\n",
    "    'polynomialfeatures__degree': [1, 2],\n",
    "    'classification__penalty': ['l1', 'l2'],\n",
    "    'classification__C': [0.06, 0.1, 0.3, 0.6, 1, 3, 6]\n",
    "}\n",
    "\n",
    "pipe = Pipeline([\n",
    "    ('scaler', StandardScaler()),\n",
    "    ('polynomialfeatures', PolynomialFeatures()),\n",
    "    ('classification', LogisticRegression())\n",
    "])\n",
    "    \n",
    "grid = GridSearchCV(pipe, params, n_jobs=-1, cv=10, verbose=2)"
   ]
  },
  {
   "cell_type": "code",
   "execution_count": null,
   "metadata": {
    "_cell_guid": "08a53b09-67e1-4c4d-a155-f7a8cf2a5d1b",
    "_kg_hide-output": true,
    "_uuid": "d2a5d3ea1575497851753f7c74be2d11e1bdbc8c",
    "collapsed": true
   },
   "outputs": [],
   "source": [
    "grid.fit(X , y.ravel())"
   ]
  },
  {
   "cell_type": "code",
   "execution_count": null,
   "metadata": {
    "_cell_guid": "c542ccc2-48f2-4bf0-90f8-1480ceb83e83",
    "_uuid": "992cc2b532cfa98eced9fa1558e6f7cac1916a93",
    "collapsed": true
   },
   "outputs": [],
   "source": [
    "grid.best_score_"
   ]
  },
  {
   "cell_type": "code",
   "execution_count": null,
   "metadata": {
    "_cell_guid": "14de0c64-cb4e-4027-a2ff-254864d286da",
    "_uuid": "85279205d6c891f4819fe6c0d421f2c733edcbbc",
    "collapsed": true
   },
   "outputs": [],
   "source": [
    "grid.best_params_"
   ]
  },
  {
   "cell_type": "code",
   "execution_count": null,
   "metadata": {
    "_cell_guid": "82695277-68ee-482b-9dae-785496bae6e0",
    "_uuid": "4a15f7a288925f6d1536565e9ac2701af7c1ee1d",
    "collapsed": true
   },
   "outputs": [],
   "source": [
    "grid.score(X_test, y_test)"
   ]
  },
  {
   "cell_type": "code",
   "execution_count": null,
   "metadata": {
    "_cell_guid": "ec24d15e-920e-44dd-ac99-df1b9ca70490",
    "_uuid": "a4df573a93c6fc10f5112d0f5cf6d36374293d40",
    "collapsed": true
   },
   "outputs": [],
   "source": [
    "lg = grid.best_estimator_"
   ]
  },
  {
   "cell_type": "markdown",
   "metadata": {
    "_cell_guid": "f6f644a9-1f83-4ce6-a815-993811b7b4d0",
    "_uuid": "51ec335c42e1dc39b7931b666c91ada6163fd23e"
   },
   "source": [
    "# 5. Predicting"
   ]
  },
  {
   "cell_type": "code",
   "execution_count": null,
   "metadata": {
    "_cell_guid": "f223daad-59f1-4e1a-a3d4-4cb4387dc042",
    "_uuid": "f2884a3f7d0f975d8393ea2a51fbc1f471baaff0",
    "collapsed": true
   },
   "outputs": [],
   "source": [
    "lg.fit(dummy_train[features].values, dummy_train[target].values.ravel())"
   ]
  },
  {
   "cell_type": "code",
   "execution_count": null,
   "metadata": {
    "_cell_guid": "056d7f4b-2dc8-41a8-9225-054291f2715d",
    "_uuid": "ca4cf7a8bfd8ce0792ada0e145ebca8dee7b1d0b",
    "collapsed": true
   },
   "outputs": [],
   "source": [
    "pred = lg.predict(dummy_test[features].values)"
   ]
  },
  {
   "cell_type": "code",
   "execution_count": null,
   "metadata": {
    "_cell_guid": "4c0fea70-ec28-4e74-8442-13d69c5de80c",
    "_uuid": "3446fba13454f48d51d9e6b6e6fa4d65cc8a1047",
    "collapsed": true
   },
   "outputs": [],
   "source": [
    "df_pred = pd.concat([df1_test[\"PassengerId\"], pd.Series(pred, name=\"Survived\")], axis=1)"
   ]
  },
  {
   "cell_type": "code",
   "execution_count": null,
   "metadata": {
    "_cell_guid": "d8318a9d-3fd0-4556-b76d-37cc685c9080",
    "_uuid": "738a9dae1a12ff614f9ce58fbaa936a12fb898f7",
    "collapsed": true
   },
   "outputs": [],
   "source": [
    "df_pred.head()"
   ]
  },
  {
   "cell_type": "code",
   "execution_count": null,
   "metadata": {
    "_cell_guid": "aca3b3c8-7a10-4ffd-9b2d-f789ed68cab5",
    "_kg_hide-input": true,
    "_uuid": "184e941509526dfd4d477bd18e2cb634a2880a19",
    "collapsed": true
   },
   "outputs": [],
   "source": [
    "df_pred.to_csv(\"out.csv\", index=False)"
   ]
  },
  {
   "cell_type": "markdown",
   "metadata": {
    "_cell_guid": "6d1cc33d-7001-41f7-94f2-e3c778b72b42",
    "_uuid": "dd40a6f45b5ba46ecf88d2f591ad1b6b9d16a6f4"
   },
   "source": [
    "# 6. Improvements"
   ]
  },
  {
   "cell_type": "markdown",
   "metadata": {
    "_cell_guid": "5c416633-dc01-472e-b375-68bc28c5246b",
    "_uuid": "463afe199e096f6052a4676e58c9b5a5eb4dadbf"
   },
   "source": [
    "## 6.1 RFE"
   ]
  },
  {
   "cell_type": "code",
   "execution_count": null,
   "metadata": {
    "_cell_guid": "4ae55572-430c-4b71-9128-84b6bd12be92",
    "_uuid": "aa1fa8b77ceb671fbf456c44e94dadda4b6d41c0",
    "collapsed": true
   },
   "outputs": [],
   "source": [
    "X, X_test, y, y_test = train_test_split(dummy_train[features].values, dummy_train[target].values, test_size=0.25, stratify=dummy_train[target].values)\n",
    "X.shape, X_test.shape, y.shape, y_test.shape"
   ]
  },
  {
   "cell_type": "code",
   "execution_count": null,
   "metadata": {
    "_cell_guid": "b624ee6a-a4eb-4781-b2c8-fd442d2c1669",
    "_uuid": "e75089eff7281280efa3714fe047b9dea6af9b71",
    "collapsed": true
   },
   "outputs": [],
   "source": [
    "rfe = RFECV(LogisticRegression())\n",
    "X_new = rfe.fit_transform(X, y)"
   ]
  },
  {
   "cell_type": "code",
   "execution_count": null,
   "metadata": {
    "_cell_guid": "7ad1a97e-1574-4028-90c4-d0f85cae4666",
    "_uuid": "849a7e59982fb9622b5ab70baa8a98d50250bdc5",
    "collapsed": true
   },
   "outputs": [],
   "source": [
    "X_new_test =rfe.transform(X_test)"
   ]
  },
  {
   "cell_type": "code",
   "execution_count": null,
   "metadata": {
    "_cell_guid": "a9822eb0-460f-438c-91b6-c10c5009bb32",
    "_uuid": "ea0291598650f950e02e3c2846576d81b29e0b62",
    "collapsed": true
   },
   "outputs": [],
   "source": []
  },
  {
   "cell_type": "markdown",
   "metadata": {
    "_cell_guid": "fbf9c64a-9a62-462d-b141-689d73d7cdc7",
    "_uuid": "f52dbd49c3b687db3cd9099d3a3279fa0ecc6d59"
   },
   "source": [
    "## 6.2 Linear Regression for estimating Age"
   ]
  },
  {
   "cell_type": "code",
   "execution_count": null,
   "metadata": {
    "_cell_guid": "fde9ccde-e72b-493e-a1e4-b37c6a029828",
    "_uuid": "272f820d571ccd60074272feffcaf8b4dedc7554",
    "collapsed": true
   },
   "outputs": [],
   "source": [
    "# TODO"
   ]
  },
  {
   "cell_type": "markdown",
   "metadata": {
    "_cell_guid": "7af2384e-86a3-4c1f-8e2d-3bc11aa11e41",
    "_uuid": "5848685c15e906d366f79f1bb517bb0af11f53c6"
   },
   "source": [
    "## 6.3 Non-linear classifier"
   ]
  },
  {
   "cell_type": "code",
   "execution_count": null,
   "metadata": {
    "_cell_guid": "c5a2b06d-f131-4a8b-b398-0060edf947f3",
    "_uuid": "2b159dd985a2c58738cec94c152d66bf312ea0df",
    "collapsed": true
   },
   "outputs": [],
   "source": [
    "from sklearn.ensemble import RandomForestClassifier\n",
    "\n",
    "features = [\"Age\", \"Cabin_M\", \"Sex_female\", \"Parch\", \"SibSp\", \"FamilySize\", \"Embarked_Q\",\n",
    "            \"Embarked_S\", \"Embarked_C\", \"Title_Rare\", \"Title_Master\", \"Title_Miss\", \"Title_Mr\",\n",
    "            \"Title_Mrs\", \"Fare\", \"Pclass_1\", \"Pclass_2\", \"Pclass_3\"]\n",
    "\n",
    "params = {\n",
    "    'classification__n_estimators': [10, 30, 60, 100, 300, 600],\n",
    "    'classification__max_depth': [2,4,6,8,10,None],\n",
    "    'classification__criterion': ['gini', 'entropy']\n",
    "}\n",
    "\n",
    "pipe = Pipeline([\n",
    "    ('scaler', StandardScaler()),\n",
    "    ('feature_selection', RFECV(RandomForestClassifier())),\n",
    "    ('classification', RandomForestClassifier())\n",
    "])\n",
    "    \n",
    "grid = GridSearchCV(pipe, params, n_jobs=-1, cv=10, verbose=3)"
   ]
  },
  {
   "cell_type": "code",
   "execution_count": null,
   "metadata": {
    "_cell_guid": "d365feb1-b33c-4abc-9f96-9bed811c2487",
    "_uuid": "8eac1f03baf2636b005f61aad66e6ed1c50d41d0",
    "collapsed": true
   },
   "outputs": [],
   "source": [
    "grid.fit(X, y.ravel())"
   ]
  },
  {
   "cell_type": "code",
   "execution_count": null,
   "metadata": {
    "_cell_guid": "38f0216a-9dd4-489d-8d46-96a44734aeec",
    "_uuid": "5378effbc73007cf778525c0295725420828ba7c",
    "collapsed": true
   },
   "outputs": [],
   "source": [
    "grid.best_score_"
   ]
  },
  {
   "cell_type": "code",
   "execution_count": null,
   "metadata": {
    "_cell_guid": "657dded3-262c-4e3d-87ab-c0d8830b7cad",
    "_uuid": "9e343068009c66a03855602c0f8f0b84ace8a109",
    "collapsed": true
   },
   "outputs": [],
   "source": [
    "grid.best_params_"
   ]
  },
  {
   "cell_type": "code",
   "execution_count": null,
   "metadata": {
    "_cell_guid": "5f6e19a6-6960-4018-b3d0-84edec94454a",
    "_uuid": "f36aef542e6ddf3da8518535f4d14198f1939f90",
    "collapsed": true
   },
   "outputs": [],
   "source": [
    "pred = grid.best_estimator_"
   ]
  },
  {
   "cell_type": "code",
   "execution_count": null,
   "metadata": {
    "_cell_guid": "929d0977-1e88-4c66-88db-6f63ded99b6e",
    "_uuid": "f15bb0122fdfa65e44a0771acf8025d7bcdd50af",
    "collapsed": true
   },
   "outputs": [],
   "source": [
    "pred.fit(dummy_train[features].values, dummy_train[target].values.ravel())"
   ]
  },
  {
   "cell_type": "code",
   "execution_count": null,
   "metadata": {
    "_cell_guid": "1f3cf6f4-ae4a-4098-b780-f636115e6ec4",
    "_uuid": "8b1348c047a1f6d690446d17674515d36f8f15d9",
    "collapsed": true
   },
   "outputs": [],
   "source": [
    "prediction = pred.predict(dummy_test[features])"
   ]
  },
  {
   "cell_type": "code",
   "execution_count": null,
   "metadata": {
    "_cell_guid": "971ae121-ae3d-43ef-8fee-1e3d88b50bba",
    "_uuid": "dc5c531e27dcab127230dc6f5d84971b5c942512",
    "collapsed": true
   },
   "outputs": [],
   "source": [
    "df_pred = pd.concat([df1_test[\"PassengerId\"], pd.Series(prediction, name=\"Survived\")], axis=1)"
   ]
  },
  {
   "cell_type": "code",
   "execution_count": null,
   "metadata": {
    "_cell_guid": "df14b997-0a9d-47fe-89aa-97bf5bc9cfc2",
    "_uuid": "fc1c17c576cc8de7afdaa7746c51c8501b7ad820",
    "collapsed": true
   },
   "outputs": [],
   "source": [
    "df_pred.head()"
   ]
  },
  {
   "cell_type": "code",
   "execution_count": null,
   "metadata": {
    "_cell_guid": "9f451357-89c7-47de-8e19-42fe20884ece",
    "_uuid": "15ab5e3c32d17f41f0edb1958a0ea074010bf047",
    "collapsed": true
   },
   "outputs": [],
   "source": [
    "#df_pred.to_csv(\"out1.csv\", index=False)"
   ]
  },
  {
   "cell_type": "code",
   "execution_count": null,
   "metadata": {
    "_cell_guid": "65641b3b-572b-431a-967b-f92fab6c758e",
    "_uuid": "d945af9e4f2104ac211bde5a4dac9493bb26cd50",
    "collapsed": true
   },
   "outputs": [],
   "source": []
  }
 ],
 "metadata": {
  "kernelspec": {
   "display_name": "Python 2",
   "language": "python",
   "name": "python2"
  },
  "language_info": {
   "codemirror_mode": {
    "name": "ipython",
    "version": 2
   },
   "file_extension": ".py",
   "mimetype": "text/x-python",
   "name": "python",
   "nbconvert_exporter": "python",
   "pygments_lexer": "ipython2",
   "version": "2.7.13"
  }
 },
 "nbformat": 4,
 "nbformat_minor": 1
}
